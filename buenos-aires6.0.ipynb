{
 "cells": [
  {
   "cell_type": "markdown",
   "metadata": {},
   "source": [
    "## 4. Predicting Price with Size, Location, and Neighborhood"
   ]
  },
  {
   "cell_type": "code",
   "execution_count": 1,
   "metadata": {},
   "outputs": [],
   "source": [
    "# ! pip install seaborn"
   ]
  },
  {
   "cell_type": "code",
   "execution_count": 2,
   "metadata": {},
   "outputs": [],
   "source": [
    "# ! pip install ipywidgets"
   ]
  },
  {
   "cell_type": "code",
   "execution_count": 3,
   "metadata": {},
   "outputs": [],
   "source": [
    "from glob import glob\n",
    "\n",
    "import pandas as pd\n",
    "import seaborn as sns\n",
    "from category_encoders import OneHotEncoder\n",
    "from ipywidgets import interact, IntSlider, FloatSlider, Dropdown # Interactive dashboard \n",
    "from sklearn.impute import SimpleImputer\n",
    "from sklearn.linear_model import LinearRegression, Ridge \n",
    "from sklearn.metrics import mean_absolute_error\n",
    "from sklearn.pipeline import make_pipeline\n",
    "from sklearn.utils.validation import check_is_fitted"
   ]
  },
  {
   "cell_type": "markdown",
   "metadata": {},
   "source": [
    "### Import"
   ]
  },
  {
   "cell_type": "code",
   "execution_count": 4,
   "metadata": {},
   "outputs": [],
   "source": [
    "def wrangle(filepath):\n",
    "    df = pd.read_excel(filepath)\n",
    "\n",
    "    # Subset data: houses \n",
    "    mask_house = df[\"property_type\"] == \"house\"\n",
    "\n",
    "    df = df[mask_house]\n",
    "\n",
    "    # Remove outliers in \"surface_covered_in_m2\"\n",
    "    low, high = df[\"surface_covered_in_m2\"].quantile([0.1, 0.9])\n",
    "    mask_area = df[\"surface_covered_in_m2\"].between(low, high)\n",
    "    df = df[mask_area]\n",
    "\n",
    "    # Split \"lat-lon\"\n",
    "    df[[\"lat\", \"lon\"]] = df[\"lat-lon\"].str.split(\",\", expand = True).astype(float)\n",
    "    df.drop(columns = \"lat-lon\", inplace = True) # Drop the old column \n",
    "\n",
    "    # Extract neighborhood\n",
    "    df[\"neighborhood\"] = df[\"place_with_parent_names\"].str.split(\"|\", expand=True)[3]\n",
    "    df.drop(columns = \"place_with_parent_names\", inplace = True)\n",
    "\n",
    "    # Drop features with high null counts\n",
    "    df.drop(columns = [\"floor\",\"expenses\"], inplace = True)\n",
    "\n",
    "    # Drop low, high cardinality categorical variables\n",
    "    df.drop(columns = [\"operation\", \"property_type\", \"currency\"], inplace=True)\n",
    "\n",
    "    # Drop leaky columns \n",
    "    df.drop(columns=[\"price\", \"price_aprox_local_currency\", \"price_per_m2\", \"price_usd_per_m2\"],\n",
    "            inplace = True)\n",
    "    \n",
    "    # Drop multicollinearity \n",
    "    df.drop(columns = [\"surface_total_in_m2\", \"rooms\"], inplace=True)\n",
    "\n",
    "    # Drop n/a \n",
    "    df.dropna(inplace=True)\n",
    "\n",
    "    return df "
   ]
  },
  {
   "cell_type": "code",
   "execution_count": 5,
   "metadata": {},
   "outputs": [
    {
     "data": {
      "text/plain": [
       "['data/real-estate-1.xlsx',\n",
       " 'data/real-estate-5.xlsx',\n",
       " 'data/real-estate-4.xlsx',\n",
       " 'data/real-estate-3.xlsx',\n",
       " 'data/real-estate-2.xlsx']"
      ]
     },
     "execution_count": 5,
     "metadata": {},
     "output_type": "execute_result"
    }
   ],
   "source": [
    "files = glob(\"data/real-estate-*.xlsx\")\n",
    "files"
   ]
  },
  {
   "cell_type": "code",
   "execution_count": 6,
   "metadata": {},
   "outputs": [],
   "source": [
    "# List comprehension \n",
    "frames = [wrangle(file) for file in files]"
   ]
  },
  {
   "cell_type": "code",
   "execution_count": 7,
   "metadata": {},
   "outputs": [
    {
     "name": "stdout",
     "output_type": "stream",
     "text": [
      "(6713, 5)\n",
      "<class 'pandas.core.frame.DataFrame'>\n",
      "RangeIndex: 6713 entries, 0 to 6712\n",
      "Data columns (total 5 columns):\n",
      " #   Column                 Non-Null Count  Dtype  \n",
      "---  ------                 --------------  -----  \n",
      " 0   price_aprox_usd        6713 non-null   float64\n",
      " 1   surface_covered_in_m2  6713 non-null   float64\n",
      " 2   lat                    6713 non-null   float64\n",
      " 3   lon                    6713 non-null   float64\n",
      " 4   neighborhood           6713 non-null   object \n",
      "dtypes: float64(4), object(1)\n",
      "memory usage: 262.4+ KB\n",
      "None\n"
     ]
    },
    {
     "data": {
      "text/html": [
       "<div>\n",
       "<style scoped>\n",
       "    .dataframe tbody tr th:only-of-type {\n",
       "        vertical-align: middle;\n",
       "    }\n",
       "\n",
       "    .dataframe tbody tr th {\n",
       "        vertical-align: top;\n",
       "    }\n",
       "\n",
       "    .dataframe thead th {\n",
       "        text-align: right;\n",
       "    }\n",
       "</style>\n",
       "<table border=\"1\" class=\"dataframe\">\n",
       "  <thead>\n",
       "    <tr style=\"text-align: right;\">\n",
       "      <th></th>\n",
       "      <th>price_aprox_usd</th>\n",
       "      <th>surface_covered_in_m2</th>\n",
       "      <th>lat</th>\n",
       "      <th>lon</th>\n",
       "      <th>neighborhood</th>\n",
       "    </tr>\n",
       "  </thead>\n",
       "  <tbody>\n",
       "    <tr>\n",
       "      <th>0</th>\n",
       "      <td>410000.0</td>\n",
       "      <td>220.0</td>\n",
       "      <td>-34.649700</td>\n",
       "      <td>-58.658073</td>\n",
       "      <td>Morón</td>\n",
       "    </tr>\n",
       "    <tr>\n",
       "      <th>1</th>\n",
       "      <td>180000.0</td>\n",
       "      <td>135.0</td>\n",
       "      <td>-34.595709</td>\n",
       "      <td>-58.566950</td>\n",
       "      <td>Tres de Febrero</td>\n",
       "    </tr>\n",
       "    <tr>\n",
       "      <th>2</th>\n",
       "      <td>130000.0</td>\n",
       "      <td>140.0</td>\n",
       "      <td>-34.655209</td>\n",
       "      <td>-58.697320</td>\n",
       "      <td>Ituzaingó</td>\n",
       "    </tr>\n",
       "    <tr>\n",
       "      <th>3</th>\n",
       "      <td>230000.0</td>\n",
       "      <td>230.0</td>\n",
       "      <td>-34.652173</td>\n",
       "      <td>-58.577867</td>\n",
       "      <td>La Matanza</td>\n",
       "    </tr>\n",
       "    <tr>\n",
       "      <th>4</th>\n",
       "      <td>340000.0</td>\n",
       "      <td>200.0</td>\n",
       "      <td>-34.417629</td>\n",
       "      <td>-58.645755</td>\n",
       "      <td>Tigre</td>\n",
       "    </tr>\n",
       "  </tbody>\n",
       "</table>\n",
       "</div>"
      ],
      "text/plain": [
       "   price_aprox_usd  surface_covered_in_m2        lat        lon  \\\n",
       "0         410000.0                  220.0 -34.649700 -58.658073   \n",
       "1         180000.0                  135.0 -34.595709 -58.566950   \n",
       "2         130000.0                  140.0 -34.655209 -58.697320   \n",
       "3         230000.0                  230.0 -34.652173 -58.577867   \n",
       "4         340000.0                  200.0 -34.417629 -58.645755   \n",
       "\n",
       "      neighborhood  \n",
       "0            Morón  \n",
       "1  Tres de Febrero  \n",
       "2        Ituzaingó  \n",
       "3       La Matanza  \n",
       "4            Tigre  "
      ]
     },
     "execution_count": 7,
     "metadata": {},
     "output_type": "execute_result"
    }
   ],
   "source": [
    "df = pd.concat(frames, ignore_index=True)\n",
    "print(df.shape)\n",
    "print(df.info())\n",
    "df.head()"
   ]
  },
  {
   "cell_type": "markdown",
   "metadata": {},
   "source": [
    "### Split data"
   ]
  },
  {
   "cell_type": "code",
   "execution_count": 8,
   "metadata": {},
   "outputs": [],
   "source": [
    "target = \"price_aprox_usd\"\n",
    "features = df.columns[df.columns != target].tolist()\n",
    "\n",
    "y_train = df[target]\n",
    "X_train = df[features]"
   ]
  },
  {
   "cell_type": "markdown",
   "metadata": {},
   "source": [
    "### Baseline "
   ]
  },
  {
   "cell_type": "code",
   "execution_count": 9,
   "metadata": {},
   "outputs": [
    {
     "name": "stdout",
     "output_type": "stream",
     "text": [
      "Mean house price: 284032.22\n",
      "Baseline MAE: 137146.33743033305\n"
     ]
    }
   ],
   "source": [
    "y_mean = y_train.mean()\n",
    "y_pred_baseline = [y_mean] * len(y_train)\n",
    "print(\"Mean house price:\", round(y_mean,2))\n",
    "print(\"Baseline MAE:\", mean_absolute_error(y_train, y_pred_baseline))"
   ]
  },
  {
   "cell_type": "markdown",
   "metadata": {},
   "source": [
    "### Iterate "
   ]
  },
  {
   "cell_type": "code",
   "execution_count": 10,
   "metadata": {},
   "outputs": [
    {
     "name": "stdout",
     "output_type": "stream",
     "text": [
      "(6713, 83)\n"
     ]
    },
    {
     "data": {
      "text/html": [
       "<div>\n",
       "<style scoped>\n",
       "    .dataframe tbody tr th:only-of-type {\n",
       "        vertical-align: middle;\n",
       "    }\n",
       "\n",
       "    .dataframe tbody tr th {\n",
       "        vertical-align: top;\n",
       "    }\n",
       "\n",
       "    .dataframe thead th {\n",
       "        text-align: right;\n",
       "    }\n",
       "</style>\n",
       "<table border=\"1\" class=\"dataframe\">\n",
       "  <thead>\n",
       "    <tr style=\"text-align: right;\">\n",
       "      <th></th>\n",
       "      <th>surface_covered_in_m2</th>\n",
       "      <th>lat</th>\n",
       "      <th>lon</th>\n",
       "      <th>neighborhood_Morón</th>\n",
       "      <th>neighborhood_Tres de Febrero</th>\n",
       "      <th>neighborhood_Ituzaingó</th>\n",
       "      <th>neighborhood_La Matanza</th>\n",
       "      <th>neighborhood_Tigre</th>\n",
       "      <th>neighborhood_Moreno</th>\n",
       "      <th>neighborhood_Lanús</th>\n",
       "      <th>...</th>\n",
       "      <th>neighborhood_Barrio Norte</th>\n",
       "      <th>neighborhood_Recoleta</th>\n",
       "      <th>neighborhood_Villa Soldati</th>\n",
       "      <th>neighborhood_Cañuelas</th>\n",
       "      <th>neighborhood_Villa Santa Rita</th>\n",
       "      <th>neighborhood_Pompeya</th>\n",
       "      <th>neighborhood_Monserrat</th>\n",
       "      <th>neighborhood_Parque Avellaneda</th>\n",
       "      <th>neighborhood_Constitución</th>\n",
       "      <th>neighborhood_Parque Centenario</th>\n",
       "    </tr>\n",
       "  </thead>\n",
       "  <tbody>\n",
       "    <tr>\n",
       "      <th>0</th>\n",
       "      <td>220.0</td>\n",
       "      <td>-34.649700</td>\n",
       "      <td>-58.658073</td>\n",
       "      <td>1</td>\n",
       "      <td>0</td>\n",
       "      <td>0</td>\n",
       "      <td>0</td>\n",
       "      <td>0</td>\n",
       "      <td>0</td>\n",
       "      <td>0</td>\n",
       "      <td>...</td>\n",
       "      <td>0</td>\n",
       "      <td>0</td>\n",
       "      <td>0</td>\n",
       "      <td>0</td>\n",
       "      <td>0</td>\n",
       "      <td>0</td>\n",
       "      <td>0</td>\n",
       "      <td>0</td>\n",
       "      <td>0</td>\n",
       "      <td>0</td>\n",
       "    </tr>\n",
       "    <tr>\n",
       "      <th>1</th>\n",
       "      <td>135.0</td>\n",
       "      <td>-34.595709</td>\n",
       "      <td>-58.566950</td>\n",
       "      <td>0</td>\n",
       "      <td>1</td>\n",
       "      <td>0</td>\n",
       "      <td>0</td>\n",
       "      <td>0</td>\n",
       "      <td>0</td>\n",
       "      <td>0</td>\n",
       "      <td>...</td>\n",
       "      <td>0</td>\n",
       "      <td>0</td>\n",
       "      <td>0</td>\n",
       "      <td>0</td>\n",
       "      <td>0</td>\n",
       "      <td>0</td>\n",
       "      <td>0</td>\n",
       "      <td>0</td>\n",
       "      <td>0</td>\n",
       "      <td>0</td>\n",
       "    </tr>\n",
       "    <tr>\n",
       "      <th>2</th>\n",
       "      <td>140.0</td>\n",
       "      <td>-34.655209</td>\n",
       "      <td>-58.697320</td>\n",
       "      <td>0</td>\n",
       "      <td>0</td>\n",
       "      <td>1</td>\n",
       "      <td>0</td>\n",
       "      <td>0</td>\n",
       "      <td>0</td>\n",
       "      <td>0</td>\n",
       "      <td>...</td>\n",
       "      <td>0</td>\n",
       "      <td>0</td>\n",
       "      <td>0</td>\n",
       "      <td>0</td>\n",
       "      <td>0</td>\n",
       "      <td>0</td>\n",
       "      <td>0</td>\n",
       "      <td>0</td>\n",
       "      <td>0</td>\n",
       "      <td>0</td>\n",
       "    </tr>\n",
       "    <tr>\n",
       "      <th>3</th>\n",
       "      <td>230.0</td>\n",
       "      <td>-34.652173</td>\n",
       "      <td>-58.577867</td>\n",
       "      <td>0</td>\n",
       "      <td>0</td>\n",
       "      <td>0</td>\n",
       "      <td>1</td>\n",
       "      <td>0</td>\n",
       "      <td>0</td>\n",
       "      <td>0</td>\n",
       "      <td>...</td>\n",
       "      <td>0</td>\n",
       "      <td>0</td>\n",
       "      <td>0</td>\n",
       "      <td>0</td>\n",
       "      <td>0</td>\n",
       "      <td>0</td>\n",
       "      <td>0</td>\n",
       "      <td>0</td>\n",
       "      <td>0</td>\n",
       "      <td>0</td>\n",
       "    </tr>\n",
       "    <tr>\n",
       "      <th>4</th>\n",
       "      <td>200.0</td>\n",
       "      <td>-34.417629</td>\n",
       "      <td>-58.645755</td>\n",
       "      <td>0</td>\n",
       "      <td>0</td>\n",
       "      <td>0</td>\n",
       "      <td>0</td>\n",
       "      <td>1</td>\n",
       "      <td>0</td>\n",
       "      <td>0</td>\n",
       "      <td>...</td>\n",
       "      <td>0</td>\n",
       "      <td>0</td>\n",
       "      <td>0</td>\n",
       "      <td>0</td>\n",
       "      <td>0</td>\n",
       "      <td>0</td>\n",
       "      <td>0</td>\n",
       "      <td>0</td>\n",
       "      <td>0</td>\n",
       "      <td>0</td>\n",
       "    </tr>\n",
       "  </tbody>\n",
       "</table>\n",
       "<p>5 rows × 83 columns</p>\n",
       "</div>"
      ],
      "text/plain": [
       "   surface_covered_in_m2        lat        lon  neighborhood_Morón  \\\n",
       "0                  220.0 -34.649700 -58.658073                   1   \n",
       "1                  135.0 -34.595709 -58.566950                   0   \n",
       "2                  140.0 -34.655209 -58.697320                   0   \n",
       "3                  230.0 -34.652173 -58.577867                   0   \n",
       "4                  200.0 -34.417629 -58.645755                   0   \n",
       "\n",
       "   neighborhood_Tres de Febrero  neighborhood_Ituzaingó  \\\n",
       "0                             0                       0   \n",
       "1                             1                       0   \n",
       "2                             0                       1   \n",
       "3                             0                       0   \n",
       "4                             0                       0   \n",
       "\n",
       "   neighborhood_La Matanza  neighborhood_Tigre  neighborhood_Moreno  \\\n",
       "0                        0                   0                    0   \n",
       "1                        0                   0                    0   \n",
       "2                        0                   0                    0   \n",
       "3                        1                   0                    0   \n",
       "4                        0                   1                    0   \n",
       "\n",
       "   neighborhood_Lanús  ...  neighborhood_Barrio Norte  neighborhood_Recoleta  \\\n",
       "0                   0  ...                          0                      0   \n",
       "1                   0  ...                          0                      0   \n",
       "2                   0  ...                          0                      0   \n",
       "3                   0  ...                          0                      0   \n",
       "4                   0  ...                          0                      0   \n",
       "\n",
       "   neighborhood_Villa Soldati  neighborhood_Cañuelas  \\\n",
       "0                           0                      0   \n",
       "1                           0                      0   \n",
       "2                           0                      0   \n",
       "3                           0                      0   \n",
       "4                           0                      0   \n",
       "\n",
       "   neighborhood_Villa Santa Rita  neighborhood_Pompeya  \\\n",
       "0                              0                     0   \n",
       "1                              0                     0   \n",
       "2                              0                     0   \n",
       "3                              0                     0   \n",
       "4                              0                     0   \n",
       "\n",
       "   neighborhood_Monserrat  neighborhood_Parque Avellaneda  \\\n",
       "0                       0                               0   \n",
       "1                       0                               0   \n",
       "2                       0                               0   \n",
       "3                       0                               0   \n",
       "4                       0                               0   \n",
       "\n",
       "   neighborhood_Constitución  neighborhood_Parque Centenario  \n",
       "0                          0                               0  \n",
       "1                          0                               0  \n",
       "2                          0                               0  \n",
       "3                          0                               0  \n",
       "4                          0                               0  \n",
       "\n",
       "[5 rows x 83 columns]"
      ]
     },
     "execution_count": 10,
     "metadata": {},
     "output_type": "execute_result"
    }
   ],
   "source": [
    "# Instantiate\n",
    "ohe = OneHotEncoder(use_cat_names=True)\n",
    "# Fit\n",
    "ohe.fit(X_train)\n",
    "# Transform\n",
    "XT_train = ohe.transform(X_train)\n",
    "print(XT_train.shape)\n",
    "XT_train.head()"
   ]
  },
  {
   "cell_type": "code",
   "execution_count": 11,
   "metadata": {},
   "outputs": [
    {
     "name": "stdout",
     "output_type": "stream",
     "text": [
      "Pipeline(steps=[('onehotencoder',\n",
      "                 OneHotEncoder(cols=['neighborhood'], use_cat_names=True)),\n",
      "                ('simpleimputer', SimpleImputer()), ('ridge', Ridge())])\n"
     ]
    }
   ],
   "source": [
    "model = make_pipeline(\n",
    "    OneHotEncoder(use_cat_names=True),\n",
    "    SimpleImputer(),\n",
    "    Ridge(),\n",
    ")\n",
    "\n",
    "model.fit(X_train, y_train)\n",
    "print(model.fit(X_train, y_train))"
   ]
  },
  {
   "cell_type": "markdown",
   "metadata": {},
   "source": [
    "### Evaluate"
   ]
  },
  {
   "cell_type": "code",
   "execution_count": 12,
   "metadata": {},
   "outputs": [
    {
     "name": "stdout",
     "output_type": "stream",
     "text": [
      "Training MAE: 79873.04528994317\n"
     ]
    }
   ],
   "source": [
    "y_pred_training = model.predict(X_train)\n",
    "print(\"Training MAE:\", mean_absolute_error(y_train, y_pred_training))"
   ]
  },
  {
   "cell_type": "code",
   "execution_count": 13,
   "metadata": {},
   "outputs": [
    {
     "data": {
      "text/plain": [
       "0     80216.944973\n",
       "1    253278.084411\n",
       "2     31906.806885\n",
       "3    119468.581377\n",
       "4    149269.217847\n",
       "dtype: float64"
      ]
     },
     "execution_count": 13,
     "metadata": {},
     "output_type": "execute_result"
    }
   ],
   "source": [
    "X_test = pd.read_excel(\"data/test-features.xlsx\")\n",
    "y_pred_test = pd.Series(model.predict(X_test))\n",
    "y_pred_test.head()"
   ]
  },
  {
   "cell_type": "markdown",
   "metadata": {},
   "source": [
    "### Communicate Results"
   ]
  },
  {
   "cell_type": "code",
   "execution_count": 14,
   "metadata": {},
   "outputs": [],
   "source": [
    "def make_prediction(area, lat, lon, neighborhood):\n",
    "    data = {\n",
    "        \"surface_covered_in_m2\": area,\n",
    "        \"lat\": lat,\n",
    "        \"lon\": lon,\n",
    "        \"neighborhood\": neighborhood\n",
    "    }\n",
    "    df = pd.DataFrame(data, index=[0])\n",
    "    prediction = model.predict(df).round(2)[0]\n",
    "    return f\"Predicted apartment price: ${prediction}\""
   ]
  },
  {
   "cell_type": "code",
   "execution_count": 15,
   "metadata": {},
   "outputs": [
    {
     "data": {
      "text/plain": [
       "'Predicted apartment price: $265556.21'"
      ]
     },
     "execution_count": 15,
     "metadata": {},
     "output_type": "execute_result"
    }
   ],
   "source": [
    "make_prediction(110, -34.60, -58.46, \"Villa Crespo\")"
   ]
  },
  {
   "cell_type": "code",
   "execution_count": 16,
   "metadata": {},
   "outputs": [
    {
     "data": {
      "application/vnd.jupyter.widget-view+json": {
       "model_id": "3f71f090aa224c27a84d2c1b7297e427",
       "version_major": 2,
       "version_minor": 0
      },
      "text/plain": [
       "interactive(children=(IntSlider(value=192, description='area', max=400, min=70), FloatSlider(value=-34.3918867…"
      ]
     },
     "metadata": {},
     "output_type": "display_data"
    }
   ],
   "source": [
    "# Interactive dashboard\n",
    "interact(\n",
    "    make_prediction,\n",
    "    area=IntSlider(\n",
    "        min=X_train[\"surface_covered_in_m2\"].min(),\n",
    "        max=X_train[\"surface_covered_in_m2\"].max(),\n",
    "        value=X_train[\"surface_covered_in_m2\"].mean(),\n",
    "    ),\n",
    "    lat=FloatSlider(\n",
    "        min=X_train[\"lat\"].min(),\n",
    "        max=X_train[\"lat\"].max(),\n",
    "        step=0.01,\n",
    "        value=X_train[\"lat\"].mean(),\n",
    "    ),\n",
    "    lon=FloatSlider(\n",
    "        min=X_train[\"lon\"].min(),\n",
    "        max=X_train[\"lon\"].max(),\n",
    "        step=0.01,\n",
    "        value=X_train[\"lon\"].mean(),\n",
    "    ),\n",
    "    neighborhood=Dropdown(options=sorted(X_train[\"neighborhood\"].unique())),\n",
    ");"
   ]
  }
 ],
 "metadata": {
  "kernelspec": {
   "display_name": "data_manipulation",
   "language": "python",
   "name": "python3"
  },
  "language_info": {
   "codemirror_mode": {
    "name": "ipython",
    "version": 3
   },
   "file_extension": ".py",
   "mimetype": "text/x-python",
   "name": "python",
   "nbconvert_exporter": "python",
   "pygments_lexer": "ipython3",
   "version": "3.12.4"
  }
 },
 "nbformat": 4,
 "nbformat_minor": 2
}
