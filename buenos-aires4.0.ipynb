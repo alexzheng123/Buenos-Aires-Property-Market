{
 "cells": [
  {
   "cell_type": "markdown",
   "metadata": {},
   "source": [
    "## 3. Predicting Price with Neighborhood"
   ]
  },
  {
   "cell_type": "code",
   "execution_count": 1,
   "metadata": {},
   "outputs": [],
   "source": [
    "# ! pip install category_encoders"
   ]
  },
  {
   "cell_type": "code",
   "execution_count": 2,
   "metadata": {},
   "outputs": [],
   "source": [
    "from glob import glob\n",
    "import matplotlib.pyplot as plt\n",
    "import numpy as np\n",
    "import pandas as pd\n",
    "from category_encoders import OneHotEncoder\n",
    "from sklearn.linear_model import LinearRegression, Ridge  \n",
    "from sklearn.metrics import mean_absolute_error\n",
    "from sklearn.pipeline import make_pipeline"
   ]
  },
  {
   "cell_type": "markdown",
   "metadata": {},
   "source": [
    "### Import"
   ]
  },
  {
   "cell_type": "code",
   "execution_count": 3,
   "metadata": {},
   "outputs": [],
   "source": [
    "def wrangle(filepath):\n",
    "    df = pd.read_excel(filepath)\n",
    "\n",
    "    # Subset data: houses \n",
    "    mask_house = df[\"property_type\"] == \"house\"\n",
    "\n",
    "    df = df[mask_house]\n",
    "\n",
    "    # Remove outliers in \"surface_covered_in_m2\"\n",
    "    low, high = df[\"surface_covered_in_m2\"].quantile([0.1, 0.9])\n",
    "    mask_area = df[\"surface_covered_in_m2\"].between(low, high)\n",
    "    df = df[mask_area]\n",
    "\n",
    "    # Split \"lat-lon\"\n",
    "    df[[\"lat\", \"lon\"]] = df[\"lat-lon\"].str.split(\",\", expand = True).astype(float)\n",
    "    df.drop(columns = \"lat-lon\", inplace = True) # Drop the old column \n",
    "\n",
    "    # Extract neighborhood\n",
    "    df[\"neighborhood\"] = df[\"place_with_parent_names\"].str.split(\"|\", expand=True)[3]\n",
    "    df.drop(columns = \"place_with_parent_names\", inplace = True)\n",
    "\n",
    "    # Drop n/a \n",
    "    df.dropna(subset = [\"price_aprox_usd\", \"neighborhood\"], inplace = True)\n",
    "\n",
    "    return df "
   ]
  },
  {
   "cell_type": "code",
   "execution_count": 4,
   "metadata": {},
   "outputs": [
    {
     "data": {
      "text/plain": [
       "['data/real-estate-1.xlsx',\n",
       " 'data/real-estate-5.xlsx',\n",
       " 'data/real-estate-4.xlsx',\n",
       " 'data/real-estate-3.xlsx',\n",
       " 'data/real-estate-2.xlsx']"
      ]
     },
     "execution_count": 4,
     "metadata": {},
     "output_type": "execute_result"
    }
   ],
   "source": [
    "files = glob(\"data/real-estate-*.xlsx\")\n",
    "files"
   ]
  },
  {
   "cell_type": "code",
   "execution_count": 5,
   "metadata": {},
   "outputs": [],
   "source": [
    "frames = []\n",
    "for file in files:\n",
    "    df = wrangle(file)\n",
    "    frames.append(df)"
   ]
  },
  {
   "cell_type": "code",
   "execution_count": 6,
   "metadata": {},
   "outputs": [
    {
     "name": "stdout",
     "output_type": "stream",
     "text": [
      "(9419, 16)\n"
     ]
    },
    {
     "data": {
      "text/html": [
       "<div>\n",
       "<style scoped>\n",
       "    .dataframe tbody tr th:only-of-type {\n",
       "        vertical-align: middle;\n",
       "    }\n",
       "\n",
       "    .dataframe tbody tr th {\n",
       "        vertical-align: top;\n",
       "    }\n",
       "\n",
       "    .dataframe thead th {\n",
       "        text-align: right;\n",
       "    }\n",
       "</style>\n",
       "<table border=\"1\" class=\"dataframe\">\n",
       "  <thead>\n",
       "    <tr style=\"text-align: right;\">\n",
       "      <th></th>\n",
       "      <th>operation</th>\n",
       "      <th>property_type</th>\n",
       "      <th>price</th>\n",
       "      <th>currency</th>\n",
       "      <th>price_aprox_local_currency</th>\n",
       "      <th>price_aprox_usd</th>\n",
       "      <th>surface_total_in_m2</th>\n",
       "      <th>surface_covered_in_m2</th>\n",
       "      <th>price_usd_per_m2</th>\n",
       "      <th>price_per_m2</th>\n",
       "      <th>floor</th>\n",
       "      <th>rooms</th>\n",
       "      <th>expenses</th>\n",
       "      <th>lat</th>\n",
       "      <th>lon</th>\n",
       "      <th>neighborhood</th>\n",
       "    </tr>\n",
       "  </thead>\n",
       "  <tbody>\n",
       "    <tr>\n",
       "      <th>0</th>\n",
       "      <td>sell</td>\n",
       "      <td>house</td>\n",
       "      <td>250000.0</td>\n",
       "      <td>USD</td>\n",
       "      <td>3790600.0</td>\n",
       "      <td>250000.0</td>\n",
       "      <td>117.0</td>\n",
       "      <td>120.0</td>\n",
       "      <td>2136.752137</td>\n",
       "      <td>2083.333333</td>\n",
       "      <td>NaN</td>\n",
       "      <td>4.0</td>\n",
       "      <td>NaN</td>\n",
       "      <td>NaN</td>\n",
       "      <td>NaN</td>\n",
       "      <td>La Matanza</td>\n",
       "    </tr>\n",
       "    <tr>\n",
       "      <th>1</th>\n",
       "      <td>sell</td>\n",
       "      <td>house</td>\n",
       "      <td>410000.0</td>\n",
       "      <td>USD</td>\n",
       "      <td>6216584.0</td>\n",
       "      <td>410000.0</td>\n",
       "      <td>410.0</td>\n",
       "      <td>220.0</td>\n",
       "      <td>1000.000000</td>\n",
       "      <td>1863.636364</td>\n",
       "      <td>NaN</td>\n",
       "      <td>NaN</td>\n",
       "      <td>NaN</td>\n",
       "      <td>-34.649700</td>\n",
       "      <td>-58.658073</td>\n",
       "      <td>Morón</td>\n",
       "    </tr>\n",
       "    <tr>\n",
       "      <th>2</th>\n",
       "      <td>sell</td>\n",
       "      <td>house</td>\n",
       "      <td>180000.0</td>\n",
       "      <td>USD</td>\n",
       "      <td>2729232.0</td>\n",
       "      <td>180000.0</td>\n",
       "      <td>200.0</td>\n",
       "      <td>135.0</td>\n",
       "      <td>900.000000</td>\n",
       "      <td>1333.333333</td>\n",
       "      <td>NaN</td>\n",
       "      <td>5.0</td>\n",
       "      <td>NaN</td>\n",
       "      <td>-34.595709</td>\n",
       "      <td>-58.566950</td>\n",
       "      <td>Tres de Febrero</td>\n",
       "    </tr>\n",
       "    <tr>\n",
       "      <th>3</th>\n",
       "      <td>sell</td>\n",
       "      <td>house</td>\n",
       "      <td>130000.0</td>\n",
       "      <td>USD</td>\n",
       "      <td>1971112.0</td>\n",
       "      <td>130000.0</td>\n",
       "      <td>300.0</td>\n",
       "      <td>140.0</td>\n",
       "      <td>433.333333</td>\n",
       "      <td>928.571429</td>\n",
       "      <td>NaN</td>\n",
       "      <td>NaN</td>\n",
       "      <td>NaN</td>\n",
       "      <td>-34.655209</td>\n",
       "      <td>-58.697320</td>\n",
       "      <td>Ituzaingó</td>\n",
       "    </tr>\n",
       "    <tr>\n",
       "      <th>4</th>\n",
       "      <td>sell</td>\n",
       "      <td>house</td>\n",
       "      <td>230000.0</td>\n",
       "      <td>USD</td>\n",
       "      <td>3487352.0</td>\n",
       "      <td>230000.0</td>\n",
       "      <td>290.0</td>\n",
       "      <td>230.0</td>\n",
       "      <td>793.103448</td>\n",
       "      <td>1000.000000</td>\n",
       "      <td>NaN</td>\n",
       "      <td>5.0</td>\n",
       "      <td>NaN</td>\n",
       "      <td>-34.652173</td>\n",
       "      <td>-58.577867</td>\n",
       "      <td>La Matanza</td>\n",
       "    </tr>\n",
       "  </tbody>\n",
       "</table>\n",
       "</div>"
      ],
      "text/plain": [
       "  operation property_type     price currency  price_aprox_local_currency  \\\n",
       "0      sell         house  250000.0      USD                   3790600.0   \n",
       "1      sell         house  410000.0      USD                   6216584.0   \n",
       "2      sell         house  180000.0      USD                   2729232.0   \n",
       "3      sell         house  130000.0      USD                   1971112.0   \n",
       "4      sell         house  230000.0      USD                   3487352.0   \n",
       "\n",
       "   price_aprox_usd  surface_total_in_m2  surface_covered_in_m2  \\\n",
       "0         250000.0                117.0                  120.0   \n",
       "1         410000.0                410.0                  220.0   \n",
       "2         180000.0                200.0                  135.0   \n",
       "3         130000.0                300.0                  140.0   \n",
       "4         230000.0                290.0                  230.0   \n",
       "\n",
       "   price_usd_per_m2  price_per_m2  floor  rooms  expenses        lat  \\\n",
       "0       2136.752137   2083.333333    NaN    4.0       NaN        NaN   \n",
       "1       1000.000000   1863.636364    NaN    NaN       NaN -34.649700   \n",
       "2        900.000000   1333.333333    NaN    5.0       NaN -34.595709   \n",
       "3        433.333333    928.571429    NaN    NaN       NaN -34.655209   \n",
       "4        793.103448   1000.000000    NaN    5.0       NaN -34.652173   \n",
       "\n",
       "         lon     neighborhood  \n",
       "0        NaN       La Matanza  \n",
       "1 -58.658073            Morón  \n",
       "2 -58.566950  Tres de Febrero  \n",
       "3 -58.697320        Ituzaingó  \n",
       "4 -58.577867       La Matanza  "
      ]
     },
     "execution_count": 6,
     "metadata": {},
     "output_type": "execute_result"
    }
   ],
   "source": [
    "df = pd.concat(frames, ignore_index=True)\n",
    "print(df.shape)\n",
    "df.head()"
   ]
  },
  {
   "cell_type": "markdown",
   "metadata": {},
   "source": [
    "### Split"
   ]
  },
  {
   "cell_type": "code",
   "execution_count": 7,
   "metadata": {},
   "outputs": [],
   "source": [
    "target = \"price_aprox_usd\"\n",
    "features = [\"neighborhood\"]\n",
    "y_train = df[target]\n",
    "X_train = df[features]"
   ]
  },
  {
   "cell_type": "markdown",
   "metadata": {},
   "source": [
    "### Baseline"
   ]
  },
  {
   "cell_type": "code",
   "execution_count": 8,
   "metadata": {},
   "outputs": [
    {
     "name": "stdout",
     "output_type": "stream",
     "text": [
      "Mean house price: 302556.3334770146\n",
      "Baseline MAE: 144036.5743916468\n"
     ]
    }
   ],
   "source": [
    "y_mean = y_train.mean()\n",
    "y_pred_baseline = [y_mean] * len(y_train)\n",
    "print(\"Mean house price:\", y_mean)\n",
    "print(\"Baseline MAE:\", mean_absolute_error(y_train, y_pred_baseline))"
   ]
  },
  {
   "cell_type": "markdown",
   "metadata": {},
   "source": [
    "### Iterate"
   ]
  },
  {
   "cell_type": "code",
   "execution_count": 9,
   "metadata": {},
   "outputs": [
    {
     "name": "stdout",
     "output_type": "stream",
     "text": [
      "(9419, 80)\n"
     ]
    },
    {
     "data": {
      "text/html": [
       "<div>\n",
       "<style scoped>\n",
       "    .dataframe tbody tr th:only-of-type {\n",
       "        vertical-align: middle;\n",
       "    }\n",
       "\n",
       "    .dataframe tbody tr th {\n",
       "        vertical-align: top;\n",
       "    }\n",
       "\n",
       "    .dataframe thead th {\n",
       "        text-align: right;\n",
       "    }\n",
       "</style>\n",
       "<table border=\"1\" class=\"dataframe\">\n",
       "  <thead>\n",
       "    <tr style=\"text-align: right;\">\n",
       "      <th></th>\n",
       "      <th>neighborhood_La Matanza</th>\n",
       "      <th>neighborhood_Morón</th>\n",
       "      <th>neighborhood_Tres de Febrero</th>\n",
       "      <th>neighborhood_Ituzaingó</th>\n",
       "      <th>neighborhood_Presidente Perón</th>\n",
       "      <th>neighborhood_Tigre</th>\n",
       "      <th>neighborhood_Moreno</th>\n",
       "      <th>neighborhood_Lanús</th>\n",
       "      <th>neighborhood_Vicente López</th>\n",
       "      <th>neighborhood_General San Martín</th>\n",
       "      <th>...</th>\n",
       "      <th>neighborhood_Barrio Norte</th>\n",
       "      <th>neighborhood_Recoleta</th>\n",
       "      <th>neighborhood_Villa Soldati</th>\n",
       "      <th>neighborhood_Cañuelas</th>\n",
       "      <th>neighborhood_Villa Santa Rita</th>\n",
       "      <th>neighborhood_Pompeya</th>\n",
       "      <th>neighborhood_Monserrat</th>\n",
       "      <th>neighborhood_Parque Avellaneda</th>\n",
       "      <th>neighborhood_Constitución</th>\n",
       "      <th>neighborhood_Parque Centenario</th>\n",
       "    </tr>\n",
       "  </thead>\n",
       "  <tbody>\n",
       "    <tr>\n",
       "      <th>0</th>\n",
       "      <td>1</td>\n",
       "      <td>0</td>\n",
       "      <td>0</td>\n",
       "      <td>0</td>\n",
       "      <td>0</td>\n",
       "      <td>0</td>\n",
       "      <td>0</td>\n",
       "      <td>0</td>\n",
       "      <td>0</td>\n",
       "      <td>0</td>\n",
       "      <td>...</td>\n",
       "      <td>0</td>\n",
       "      <td>0</td>\n",
       "      <td>0</td>\n",
       "      <td>0</td>\n",
       "      <td>0</td>\n",
       "      <td>0</td>\n",
       "      <td>0</td>\n",
       "      <td>0</td>\n",
       "      <td>0</td>\n",
       "      <td>0</td>\n",
       "    </tr>\n",
       "    <tr>\n",
       "      <th>1</th>\n",
       "      <td>0</td>\n",
       "      <td>1</td>\n",
       "      <td>0</td>\n",
       "      <td>0</td>\n",
       "      <td>0</td>\n",
       "      <td>0</td>\n",
       "      <td>0</td>\n",
       "      <td>0</td>\n",
       "      <td>0</td>\n",
       "      <td>0</td>\n",
       "      <td>...</td>\n",
       "      <td>0</td>\n",
       "      <td>0</td>\n",
       "      <td>0</td>\n",
       "      <td>0</td>\n",
       "      <td>0</td>\n",
       "      <td>0</td>\n",
       "      <td>0</td>\n",
       "      <td>0</td>\n",
       "      <td>0</td>\n",
       "      <td>0</td>\n",
       "    </tr>\n",
       "    <tr>\n",
       "      <th>2</th>\n",
       "      <td>0</td>\n",
       "      <td>0</td>\n",
       "      <td>1</td>\n",
       "      <td>0</td>\n",
       "      <td>0</td>\n",
       "      <td>0</td>\n",
       "      <td>0</td>\n",
       "      <td>0</td>\n",
       "      <td>0</td>\n",
       "      <td>0</td>\n",
       "      <td>...</td>\n",
       "      <td>0</td>\n",
       "      <td>0</td>\n",
       "      <td>0</td>\n",
       "      <td>0</td>\n",
       "      <td>0</td>\n",
       "      <td>0</td>\n",
       "      <td>0</td>\n",
       "      <td>0</td>\n",
       "      <td>0</td>\n",
       "      <td>0</td>\n",
       "    </tr>\n",
       "    <tr>\n",
       "      <th>3</th>\n",
       "      <td>0</td>\n",
       "      <td>0</td>\n",
       "      <td>0</td>\n",
       "      <td>1</td>\n",
       "      <td>0</td>\n",
       "      <td>0</td>\n",
       "      <td>0</td>\n",
       "      <td>0</td>\n",
       "      <td>0</td>\n",
       "      <td>0</td>\n",
       "      <td>...</td>\n",
       "      <td>0</td>\n",
       "      <td>0</td>\n",
       "      <td>0</td>\n",
       "      <td>0</td>\n",
       "      <td>0</td>\n",
       "      <td>0</td>\n",
       "      <td>0</td>\n",
       "      <td>0</td>\n",
       "      <td>0</td>\n",
       "      <td>0</td>\n",
       "    </tr>\n",
       "    <tr>\n",
       "      <th>4</th>\n",
       "      <td>1</td>\n",
       "      <td>0</td>\n",
       "      <td>0</td>\n",
       "      <td>0</td>\n",
       "      <td>0</td>\n",
       "      <td>0</td>\n",
       "      <td>0</td>\n",
       "      <td>0</td>\n",
       "      <td>0</td>\n",
       "      <td>0</td>\n",
       "      <td>...</td>\n",
       "      <td>0</td>\n",
       "      <td>0</td>\n",
       "      <td>0</td>\n",
       "      <td>0</td>\n",
       "      <td>0</td>\n",
       "      <td>0</td>\n",
       "      <td>0</td>\n",
       "      <td>0</td>\n",
       "      <td>0</td>\n",
       "      <td>0</td>\n",
       "    </tr>\n",
       "  </tbody>\n",
       "</table>\n",
       "<p>5 rows × 80 columns</p>\n",
       "</div>"
      ],
      "text/plain": [
       "   neighborhood_La Matanza  neighborhood_Morón  neighborhood_Tres de Febrero  \\\n",
       "0                        1                   0                             0   \n",
       "1                        0                   1                             0   \n",
       "2                        0                   0                             1   \n",
       "3                        0                   0                             0   \n",
       "4                        1                   0                             0   \n",
       "\n",
       "   neighborhood_Ituzaingó  neighborhood_Presidente Perón  neighborhood_Tigre  \\\n",
       "0                       0                              0                   0   \n",
       "1                       0                              0                   0   \n",
       "2                       0                              0                   0   \n",
       "3                       1                              0                   0   \n",
       "4                       0                              0                   0   \n",
       "\n",
       "   neighborhood_Moreno  neighborhood_Lanús  neighborhood_Vicente López  \\\n",
       "0                    0                   0                           0   \n",
       "1                    0                   0                           0   \n",
       "2                    0                   0                           0   \n",
       "3                    0                   0                           0   \n",
       "4                    0                   0                           0   \n",
       "\n",
       "   neighborhood_General San Martín  ...  neighborhood_Barrio Norte  \\\n",
       "0                                0  ...                          0   \n",
       "1                                0  ...                          0   \n",
       "2                                0  ...                          0   \n",
       "3                                0  ...                          0   \n",
       "4                                0  ...                          0   \n",
       "\n",
       "   neighborhood_Recoleta  neighborhood_Villa Soldati  neighborhood_Cañuelas  \\\n",
       "0                      0                           0                      0   \n",
       "1                      0                           0                      0   \n",
       "2                      0                           0                      0   \n",
       "3                      0                           0                      0   \n",
       "4                      0                           0                      0   \n",
       "\n",
       "   neighborhood_Villa Santa Rita  neighborhood_Pompeya  \\\n",
       "0                              0                     0   \n",
       "1                              0                     0   \n",
       "2                              0                     0   \n",
       "3                              0                     0   \n",
       "4                              0                     0   \n",
       "\n",
       "   neighborhood_Monserrat  neighborhood_Parque Avellaneda  \\\n",
       "0                       0                               0   \n",
       "1                       0                               0   \n",
       "2                       0                               0   \n",
       "3                       0                               0   \n",
       "4                       0                               0   \n",
       "\n",
       "   neighborhood_Constitución  neighborhood_Parque Centenario  \n",
       "0                          0                               0  \n",
       "1                          0                               0  \n",
       "2                          0                               0  \n",
       "3                          0                               0  \n",
       "4                          0                               0  \n",
       "\n",
       "[5 rows x 80 columns]"
      ]
     },
     "execution_count": 9,
     "metadata": {},
     "output_type": "execute_result"
    }
   ],
   "source": [
    "# Instantiate\n",
    "ohe = OneHotEncoder(use_cat_names=True)\n",
    "# Fit\n",
    "ohe.fit(X_train)\n",
    "# Transform\n",
    "XT_train = ohe.transform(X_train)\n",
    "print(XT_train.shape)\n",
    "XT_train.head()"
   ]
  },
  {
   "cell_type": "code",
   "execution_count": 10,
   "metadata": {},
   "outputs": [
    {
     "name": "stdout",
     "output_type": "stream",
     "text": [
      "Pipeline(steps=[('onehotencoder',\n",
      "                 OneHotEncoder(cols=['neighborhood'], use_cat_names=True)),\n",
      "                ('ridge', Ridge())])\n"
     ]
    }
   ],
   "source": [
    "# Use Ridge() to solve overfitting from high dimensionality \n",
    "model = make_pipeline(\n",
    "    OneHotEncoder(use_cat_names=True),\n",
    "    Ridge())\n",
    "\n",
    "model.fit(X_train, y_train)\n",
    "print(model.fit(X_train, y_train))"
   ]
  },
  {
   "cell_type": "markdown",
   "metadata": {},
   "source": [
    "### Evaluate "
   ]
  },
  {
   "cell_type": "code",
   "execution_count": 11,
   "metadata": {},
   "outputs": [
    {
     "name": "stdout",
     "output_type": "stream",
     "text": [
      "Training MAE: 122533.66\n"
     ]
    }
   ],
   "source": [
    "y_pred_training = model.predict(X_train)\n",
    "mae_training = mean_absolute_error(y_train, y_pred_training)\n",
    "print(\"Training MAE:\", round(mae_training, 2))"
   ]
  },
  {
   "cell_type": "markdown",
   "metadata": {},
   "source": [
    "### Communicate Results"
   ]
  },
  {
   "cell_type": "code",
   "execution_count": 12,
   "metadata": {},
   "outputs": [
    {
     "name": "stdout",
     "output_type": "stream",
     "text": [
      "coefficients len: 80\n",
      "[ -74392.81336589  -88466.54725955 -104786.79636603  -92523.47010847\n",
      "  -61453.03920976]\n"
     ]
    }
   ],
   "source": [
    "# Extract the coefficients\n",
    "intercept = model.named_steps[\"ridge\"].intercept_\n",
    "coefficients = model.named_steps[\"ridge\"].coef_\n",
    "print(\"coefficients len:\", len(coefficients))\n",
    "print(coefficients[:5])  # First five coefficients"
   ]
  },
  {
   "cell_type": "code",
   "execution_count": 13,
   "metadata": {},
   "outputs": [
    {
     "name": "stdout",
     "output_type": "stream",
     "text": [
      "features len: 80\n",
      "['neighborhood_La Matanza' 'neighborhood_Morón'\n",
      " 'neighborhood_Tres de Febrero' 'neighborhood_Ituzaingó'\n",
      " 'neighborhood_Presidente Perón']\n"
     ]
    }
   ],
   "source": [
    "# Get feature names \n",
    "feature_names = model.named_steps[\"onehotencoder\"].get_feature_names_out()\n",
    "print(\"features len:\", len(feature_names))\n",
    "print(feature_names[:5])  "
   ]
  },
  {
   "cell_type": "code",
   "execution_count": 14,
   "metadata": {},
   "outputs": [
    {
     "data": {
      "text/plain": [
       "neighborhood_Florencio Varela     -202455.698812\n",
       "neighborhood_Marcos Paz           -165264.580305\n",
       "neighborhood_Merlo                -153767.325321\n",
       "neighborhood_José C Paz           -152007.082853\n",
       "neighborhood_General San Martín   -143089.553057\n",
       "dtype: float64"
      ]
     },
     "execution_count": 14,
     "metadata": {},
     "output_type": "execute_result"
    }
   ],
   "source": [
    "# Create a pandas Series named feat_imp where the indices are features and the values are your coefficients\n",
    "feat_imp = pd.Series(coefficients, index=feature_names)\n",
    "feat_imp.sort_values(ascending=True).head()"
   ]
  },
  {
   "cell_type": "code",
   "execution_count": 15,
   "metadata": {},
   "outputs": [
    {
     "name": "stdout",
     "output_type": "stream",
     "text": [
      "price = 298262.66\n",
      "+ (-74392.81 * neighborhood_La Matanza)\n",
      "+ (-88466.55 * neighborhood_Morón)\n",
      "+ (-104786.8 * neighborhood_Tres de Febrero)\n",
      "+ (-92523.47 * neighborhood_Ituzaingó)\n",
      "+ (-61453.04 * neighborhood_Presidente Perón)\n",
      "+ (124335.16 * neighborhood_Tigre)\n",
      "+ (-57754.1 * neighborhood_Moreno)\n",
      "+ (-135618.68 * neighborhood_Lanús)\n",
      "+ (22181.15 * neighborhood_Vicente López)\n",
      "+ (-143089.55 * neighborhood_General San Martín)\n",
      "+ (18947.78 * neighborhood_Villa General Mitre)\n",
      "+ (-77110.12 * neighborhood_Lomas de Zamora)\n",
      "+ (-43445.5 * neighborhood_Escobar)\n",
      "+ (-85629.08 * neighborhood_Almirante Brown)\n",
      "+ (82416.7 * neighborhood_San Isidro)\n",
      "+ (9231.53 * neighborhood_San Fernando)\n",
      "+ (105800.33 * neighborhood_)\n",
      "+ (227970.39 * neighborhood_Nuñez)\n",
      "+ (7269.71 * neighborhood_Flores)\n",
      "+ (-93610.13 * neighborhood_Boca)\n",
      "+ (-12952.26 * neighborhood_Pilar)\n",
      "+ (-80306.57 * neighborhood_San Miguel)\n",
      "+ (-86654.29 * neighborhood_General Rodríguez)\n",
      "+ (34050.89 * neighborhood_Saavedra)\n",
      "+ (234079.87 * neighborhood_Mataderos)\n",
      "+ (-14544.85 * neighborhood_Esteban Echeverría)\n",
      "+ (-41903.9 * neighborhood_Malvinas Argentinas)\n",
      "+ (-78011.69 * neighborhood_Villa Lugano)\n",
      "+ (20060.58 * neighborhood_Versalles)\n",
      "+ (42045.36 * neighborhood_Berazategui)\n",
      "+ (-112336.14 * neighborhood_Hurlingham)\n",
      "+ (15989.87 * neighborhood_Coghlan)\n",
      "+ (-152007.08 * neighborhood_José C Paz)\n",
      "+ (151189.87 * neighborhood_Villa Ortuzar)\n",
      "+ (-165264.58 * neighborhood_Marcos Paz)\n",
      "+ (46659.13 * neighborhood_Villa Devoto)\n",
      "+ (26544.3 * neighborhood_Parque Chacabuco)\n",
      "+ (141447.78 * neighborhood_Almagro)\n",
      "+ (-70779.88 * neighborhood_La Plata)\n",
      "+ (-49979.83 * neighborhood_Paternal)\n",
      "+ (358256.1 * neighborhood_Palermo)\n",
      "+ (-23084.06 * neighborhood_San Vicente)\n",
      "+ (30246.38 * neighborhood_Villa Pueyrredón)\n",
      "+ (-68982.5 * neighborhood_Liniers)\n",
      "+ (-153767.33 * neighborhood_Merlo)\n",
      "+ (104433.19 * neighborhood_San Cristobal)\n",
      "+ (-56669.89 * neighborhood_Barracas)\n",
      "+ (-9901.03 * neighborhood_Ezeiza)\n",
      "+ (-115600.15 * neighborhood_Avellaneda)\n",
      "+ (-59122.37 * neighborhood_Parque Patricios)\n",
      "+ (65116.26 * neighborhood_Villa Luro)\n",
      "+ (-93885.55 * neighborhood_Villa Real)\n",
      "+ (-51153.91 * neighborhood_Floresta)\n",
      "+ (404176.37 * neighborhood_Belgrano)\n",
      "+ (94689.4 * neighborhood_Villa Urquiza)\n",
      "+ (149488.49 * neighborhood_Colegiales)\n",
      "+ (47824.89 * neighborhood_Velez Sarsfield)\n",
      "+ (-80776.22 * neighborhood_Quilmes)\n",
      "+ (37824.89 * neighborhood_Agronomía)\n",
      "+ (-14697.0 * neighborhood_Boedo)\n",
      "+ (-202455.7 * neighborhood_Florencio Varela)\n",
      "+ (76589.87 * neighborhood_Retiro)\n",
      "+ (101918.6 * neighborhood_Caballito)\n",
      "+ (-106197.0 * neighborhood_San Nicolás)\n",
      "+ (-1604.83 * neighborhood_Monte Castro)\n",
      "+ (85053.6 * neighborhood_Villa Crespo)\n",
      "+ (15821.52 * neighborhood_Villa del Parque)\n",
      "+ (-56631.33 * neighborhood_Chacarita)\n",
      "+ (-46631.33 * neighborhood_San Telmo)\n",
      "+ (-22175.11 * neighborhood_Parque Chas)\n",
      "+ (277389.87 * neighborhood_Barrio Norte)\n",
      "+ (-49631.33 * neighborhood_Recoleta)\n",
      "+ (-29131.33 * neighborhood_Villa Soldati)\n",
      "+ (-56197.0 * neighborhood_Cañuelas)\n",
      "+ (111158.23 * neighborhood_Villa Santa Rita)\n",
      "+ (-12131.33 * neighborhood_Pompeya)\n",
      "+ (-76631.33 * neighborhood_Monserrat)\n",
      "+ (-32885.55 * neighborhood_Parque Avellaneda)\n",
      "+ (-62697.0 * neighborhood_Constitución)\n",
      "+ (135053.0 * neighborhood_Parque Centenario)\n"
     ]
    }
   ],
   "source": [
    "print(f\"price = {intercept.round(2)}\")\n",
    "for f, c in feat_imp.items():\n",
    "    print(f\"+ ({round(c, 2)} * {f})\")"
   ]
  },
  {
   "cell_type": "code",
   "execution_count": 16,
   "metadata": {},
   "outputs": [
    {
     "data": {
      "image/png": "[encoded data removed]",
      "text/plain": [
       "<Figure size 640x480 with 1 Axes>"
      ]
     },
     "metadata": {},
     "output_type": "display_data"
    }
   ],
   "source": [
    "# Bar chart \n",
    "feat_imp.sort_values(key=abs).tail(15).plot(kind=\"barh\") # Sort by absolute values -> get the biggest 15 values in absolute terms\n",
    "plt.xlabel(\"Importance [USD]\")\n",
    "plt.ylabel(\"Feature\")\n",
    "plt.title(\"Feature Importance for House Price\");\n",
    "\n",
    "plt.savefig(\"images/fig4.1_feature_importance.png\", bbox_inches = \"tight\")\n",
    "\n",
    "# Thus, being in the \"Belgrano\" neighborhood increases the house price by 404176.37 USD,\n",
    "# while being in the \"Florencio Varela\" neighborhood decreases the house price by 202455.70 USD. "
   ]
  }
 ],
 "metadata": {
  "kernelspec": {
   "display_name": "data_manipulation",
   "language": "python",
   "name": "python3"
  },
  "language_info": {
   "codemirror_mode": {
    "name": "ipython",
    "version": 3
   },
   "file_extension": ".py",
   "mimetype": "text/x-python",
   "name": "python",
   "nbconvert_exporter": "python",
   "pygments_lexer": "ipython3",
   "version": "3.12.4"
  }
 },
 "nbformat": 4,
 "nbformat_minor": 2
}
