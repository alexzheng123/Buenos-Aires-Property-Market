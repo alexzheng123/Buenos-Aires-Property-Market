{
 "cells": [
  {
   "cell_type": "code",
   "execution_count": 1,
   "metadata": {},
   "outputs": [],
   "source": [
    "# Explore the data and then build a wrangle function "
   ]
  },
  {
   "cell_type": "code",
   "execution_count": 2,
   "metadata": {},
   "outputs": [],
   "source": [
    "import pandas as pd\n",
    "from glob import glob\n",
    "import seaborn as sns\n",
    "import matplotlib.pyplot as plt"
   ]
  },
  {
   "cell_type": "code",
   "execution_count": 3,
   "metadata": {},
   "outputs": [],
   "source": [
    "# Import dataset and concatenate "
   ]
  },
  {
   "cell_type": "code",
   "execution_count": 4,
   "metadata": {},
   "outputs": [],
   "source": [
    "# Old wrangle function\n",
    "def wrangle(filepath):\n",
    "    df = pd.read_excel(filepath)\n",
    "\n",
    "    # Subset data: houses \n",
    "    mask_house = df[\"property_type\"] == \"house\"\n",
    "\n",
    "    df = df[mask_house]\n",
    "\n",
    "    # Remove outliers in \"surface_covered_in_m2\"\n",
    "    low, high = df[\"surface_covered_in_m2\"].quantile([0.1, 0.9])\n",
    "    mask_area = df[\"surface_covered_in_m2\"].between(low, high)\n",
    "    df = df[mask_area]\n",
    "\n",
    "    # Split \"lat-lon\"\n",
    "    df[[\"lat\", \"lon\"]] = df[\"lat-lon\"].str.split(\",\", expand = True).astype(float)\n",
    "    df.drop(columns = \"lat-lon\", inplace = True) # Drop the old column \n",
    "\n",
    "    # Extract neighborhood\n",
    "    df[\"neighborhood\"] = df[\"place_with_parent_names\"].str.split(\"|\", expand=True)[3]\n",
    "    df.drop(columns = \"place_with_parent_names\", inplace = True)\n",
    "\n",
    "    # # Drop n/a \n",
    "    # df.dropna(subset = [\"price_aprox_usd\", \"neighborhood\"], inplace = True)\n",
    "\n",
    "    return df "
   ]
  },
  {
   "cell_type": "code",
   "execution_count": 5,
   "metadata": {},
   "outputs": [
    {
     "data": {
      "text/plain": [
       "['data/real-estate-1.xlsx',\n",
       " 'data/real-estate-5.xlsx',\n",
       " 'data/real-estate-4.xlsx',\n",
       " 'data/real-estate-3.xlsx',\n",
       " 'data/real-estate-2.xlsx']"
      ]
     },
     "execution_count": 5,
     "metadata": {},
     "output_type": "execute_result"
    }
   ],
   "source": [
    "files = glob(\"data/real-estate-*.xlsx\")\n",
    "files"
   ]
  },
  {
   "cell_type": "code",
   "execution_count": 6,
   "metadata": {},
   "outputs": [],
   "source": [
    "frames = [wrangle(file) for file in files]"
   ]
  },
  {
   "cell_type": "code",
   "execution_count": 7,
   "metadata": {},
   "outputs": [
    {
     "name": "stdout",
     "output_type": "stream",
     "text": [
      "<class 'pandas.core.frame.DataFrame'>\n",
      "RangeIndex: 10480 entries, 0 to 10479\n",
      "Data columns (total 16 columns):\n",
      " #   Column                      Non-Null Count  Dtype  \n",
      "---  ------                      --------------  -----  \n",
      " 0   operation                   10480 non-null  object \n",
      " 1   property_type               10480 non-null  object \n",
      " 2   price                       9419 non-null   float64\n",
      " 3   currency                    9419 non-null   object \n",
      " 4   price_aprox_local_currency  9419 non-null   float64\n",
      " 5   price_aprox_usd             9419 non-null   float64\n",
      " 6   surface_total_in_m2         9399 non-null   float64\n",
      " 7   surface_covered_in_m2       10480 non-null  float64\n",
      " 8   price_usd_per_m2            7794 non-null   float64\n",
      " 9   price_per_m2                9419 non-null   float64\n",
      " 10  floor                       26 non-null     float64\n",
      " 11  rooms                       4935 non-null   float64\n",
      " 12  expenses                    344 non-null    float64\n",
      " 13  lat                         7451 non-null   float64\n",
      " 14  lon                         7451 non-null   float64\n",
      " 15  neighborhood                10480 non-null  object \n",
      "dtypes: float64(12), object(4)\n",
      "memory usage: 1.3+ MB\n",
      "None\n"
     ]
    },
    {
     "data": {
      "text/html": [
       "<div>\n",
       "<style scoped>\n",
       "    .dataframe tbody tr th:only-of-type {\n",
       "        vertical-align: middle;\n",
       "    }\n",
       "\n",
       "    .dataframe tbody tr th {\n",
       "        vertical-align: top;\n",
       "    }\n",
       "\n",
       "    .dataframe thead th {\n",
       "        text-align: right;\n",
       "    }\n",
       "</style>\n",
       "<table border=\"1\" class=\"dataframe\">\n",
       "  <thead>\n",
       "    <tr style=\"text-align: right;\">\n",
       "      <th></th>\n",
       "      <th>operation</th>\n",
       "      <th>property_type</th>\n",
       "      <th>price</th>\n",
       "      <th>currency</th>\n",
       "      <th>price_aprox_local_currency</th>\n",
       "      <th>price_aprox_usd</th>\n",
       "      <th>surface_total_in_m2</th>\n",
       "      <th>surface_covered_in_m2</th>\n",
       "      <th>price_usd_per_m2</th>\n",
       "      <th>price_per_m2</th>\n",
       "      <th>floor</th>\n",
       "      <th>rooms</th>\n",
       "      <th>expenses</th>\n",
       "      <th>lat</th>\n",
       "      <th>lon</th>\n",
       "      <th>neighborhood</th>\n",
       "    </tr>\n",
       "  </thead>\n",
       "  <tbody>\n",
       "    <tr>\n",
       "      <th>0</th>\n",
       "      <td>sell</td>\n",
       "      <td>house</td>\n",
       "      <td>250000.0</td>\n",
       "      <td>USD</td>\n",
       "      <td>3790600.0</td>\n",
       "      <td>250000.0</td>\n",
       "      <td>117.0</td>\n",
       "      <td>120.0</td>\n",
       "      <td>2136.752137</td>\n",
       "      <td>2083.333333</td>\n",
       "      <td>NaN</td>\n",
       "      <td>4.0</td>\n",
       "      <td>NaN</td>\n",
       "      <td>NaN</td>\n",
       "      <td>NaN</td>\n",
       "      <td>La Matanza</td>\n",
       "    </tr>\n",
       "    <tr>\n",
       "      <th>1</th>\n",
       "      <td>sell</td>\n",
       "      <td>house</td>\n",
       "      <td>410000.0</td>\n",
       "      <td>USD</td>\n",
       "      <td>6216584.0</td>\n",
       "      <td>410000.0</td>\n",
       "      <td>410.0</td>\n",
       "      <td>220.0</td>\n",
       "      <td>1000.000000</td>\n",
       "      <td>1863.636364</td>\n",
       "      <td>NaN</td>\n",
       "      <td>NaN</td>\n",
       "      <td>NaN</td>\n",
       "      <td>-34.649700</td>\n",
       "      <td>-58.658073</td>\n",
       "      <td>Morón</td>\n",
       "    </tr>\n",
       "    <tr>\n",
       "      <th>2</th>\n",
       "      <td>sell</td>\n",
       "      <td>house</td>\n",
       "      <td>180000.0</td>\n",
       "      <td>USD</td>\n",
       "      <td>2729232.0</td>\n",
       "      <td>180000.0</td>\n",
       "      <td>200.0</td>\n",
       "      <td>135.0</td>\n",
       "      <td>900.000000</td>\n",
       "      <td>1333.333333</td>\n",
       "      <td>NaN</td>\n",
       "      <td>5.0</td>\n",
       "      <td>NaN</td>\n",
       "      <td>-34.595709</td>\n",
       "      <td>-58.566950</td>\n",
       "      <td>Tres de Febrero</td>\n",
       "    </tr>\n",
       "    <tr>\n",
       "      <th>3</th>\n",
       "      <td>sell</td>\n",
       "      <td>house</td>\n",
       "      <td>130000.0</td>\n",
       "      <td>USD</td>\n",
       "      <td>1971112.0</td>\n",
       "      <td>130000.0</td>\n",
       "      <td>300.0</td>\n",
       "      <td>140.0</td>\n",
       "      <td>433.333333</td>\n",
       "      <td>928.571429</td>\n",
       "      <td>NaN</td>\n",
       "      <td>NaN</td>\n",
       "      <td>NaN</td>\n",
       "      <td>-34.655209</td>\n",
       "      <td>-58.697320</td>\n",
       "      <td>Ituzaingó</td>\n",
       "    </tr>\n",
       "    <tr>\n",
       "      <th>4</th>\n",
       "      <td>sell</td>\n",
       "      <td>house</td>\n",
       "      <td>230000.0</td>\n",
       "      <td>USD</td>\n",
       "      <td>3487352.0</td>\n",
       "      <td>230000.0</td>\n",
       "      <td>290.0</td>\n",
       "      <td>230.0</td>\n",
       "      <td>793.103448</td>\n",
       "      <td>1000.000000</td>\n",
       "      <td>NaN</td>\n",
       "      <td>5.0</td>\n",
       "      <td>NaN</td>\n",
       "      <td>-34.652173</td>\n",
       "      <td>-58.577867</td>\n",
       "      <td>La Matanza</td>\n",
       "    </tr>\n",
       "  </tbody>\n",
       "</table>\n",
       "</div>"
      ],
      "text/plain": [
       "  operation property_type     price currency  price_aprox_local_currency  \\\n",
       "0      sell         house  250000.0      USD                   3790600.0   \n",
       "1      sell         house  410000.0      USD                   6216584.0   \n",
       "2      sell         house  180000.0      USD                   2729232.0   \n",
       "3      sell         house  130000.0      USD                   1971112.0   \n",
       "4      sell         house  230000.0      USD                   3487352.0   \n",
       "\n",
       "   price_aprox_usd  surface_total_in_m2  surface_covered_in_m2  \\\n",
       "0         250000.0                117.0                  120.0   \n",
       "1         410000.0                410.0                  220.0   \n",
       "2         180000.0                200.0                  135.0   \n",
       "3         130000.0                300.0                  140.0   \n",
       "4         230000.0                290.0                  230.0   \n",
       "\n",
       "   price_usd_per_m2  price_per_m2  floor  rooms  expenses        lat  \\\n",
       "0       2136.752137   2083.333333    NaN    4.0       NaN        NaN   \n",
       "1       1000.000000   1863.636364    NaN    NaN       NaN -34.649700   \n",
       "2        900.000000   1333.333333    NaN    5.0       NaN -34.595709   \n",
       "3        433.333333    928.571429    NaN    NaN       NaN -34.655209   \n",
       "4        793.103448   1000.000000    NaN    5.0       NaN -34.652173   \n",
       "\n",
       "         lon     neighborhood  \n",
       "0        NaN       La Matanza  \n",
       "1 -58.658073            Morón  \n",
       "2 -58.566950  Tres de Febrero  \n",
       "3 -58.697320        Ituzaingó  \n",
       "4 -58.577867       La Matanza  "
      ]
     },
     "execution_count": 7,
     "metadata": {},
     "output_type": "execute_result"
    }
   ],
   "source": [
    "# Concatenate frames \n",
    "df = pd.concat(frames, ignore_index=True)\n",
    "print(df.info())\n",
    "df.head()"
   ]
  },
  {
   "cell_type": "markdown",
   "metadata": {},
   "source": [
    "## Explore"
   ]
  },
  {
   "cell_type": "code",
   "execution_count": 8,
   "metadata": {},
   "outputs": [
    {
     "data": {
      "text/plain": [
       "operation                     0.000000\n",
       "property_type                 0.000000\n",
       "price                         0.101240\n",
       "currency                      0.101240\n",
       "price_aprox_local_currency    0.101240\n",
       "price_aprox_usd               0.101240\n",
       "surface_total_in_m2           0.103149\n",
       "surface_covered_in_m2         0.000000\n",
       "price_usd_per_m2              0.256298\n",
       "price_per_m2                  0.101240\n",
       "floor                         0.997519\n",
       "rooms                         0.529103\n",
       "expenses                      0.967176\n",
       "lat                           0.289027\n",
       "lon                           0.289027\n",
       "neighborhood                  0.000000\n",
       "dtype: float64"
      ]
     },
     "execution_count": 8,
     "metadata": {},
     "output_type": "execute_result"
    }
   ],
   "source": [
    "# 1. Check to drop columns that have more than 50% null(missing) values\n",
    "df.isnull().sum() / len(df)"
   ]
  },
  {
   "cell_type": "code",
   "execution_count": 9,
   "metadata": {},
   "outputs": [],
   "source": [
    "# Thus, drop \"floor\" and \"expenses\" \n",
    "df = df.drop(columns=[\"floor\", \"expenses\"])"
   ]
  },
  {
   "cell_type": "code",
   "execution_count": 10,
   "metadata": {},
   "outputs": [
    {
     "data": {
      "text/plain": [
       "operation         1\n",
       "property_type     1\n",
       "currency          2\n",
       "neighborhood     81\n",
       "dtype: int64"
      ]
     },
     "execution_count": 10,
     "metadata": {},
     "output_type": "execute_result"
    }
   ],
   "source": [
    "# 2. Check columns that give no useful information (low, high cardinality) -> `object` columns either only have one value, or too many different values  \n",
    "df.select_dtypes(\"object\").head()\n",
    "df.select_dtypes(\"object\").nunique()"
   ]
  },
  {
   "cell_type": "code",
   "execution_count": 11,
   "metadata": {},
   "outputs": [],
   "source": [
    "# Thus, drop \"operation\", \"property_type\" and \"currency\" due to low cardinality \n",
    "df = df.drop(columns=[\"operation\", \"property_type\", \"currency\"])"
   ]
  },
  {
   "cell_type": "code",
   "execution_count": 12,
   "metadata": {},
   "outputs": [
    {
     "data": {
      "text/plain": [
       "['lat',\n",
       " 'lon',\n",
       " 'neighborhood',\n",
       " 'price',\n",
       " 'price_aprox_local_currency',\n",
       " 'price_aprox_usd',\n",
       " 'price_per_m2',\n",
       " 'price_usd_per_m2',\n",
       " 'rooms',\n",
       " 'surface_covered_in_m2',\n",
       " 'surface_total_in_m2']"
      ]
     },
     "execution_count": 12,
     "metadata": {},
     "output_type": "execute_result"
    }
   ],
   "source": [
    "# 3. Check to drop leaky columns -> columns that give info about the target to the model that wouldn't be accessible in real life \n",
    "sorted(df.columns) # See all the columns"
   ]
  },
  {
   "cell_type": "code",
   "execution_count": 13,
   "metadata": {},
   "outputs": [],
   "source": [
    "# Thus, given our target \"price_aprox_usd\", we should drop columns: \n",
    "# \"price\", \"price_aprox_local_currency\", \"price_per_m2\", \"price_usd_per_m2\"\n",
    "df = df.drop(columns=[\"price\", \"price_aprox_local_currency\", \"price_per_m2\", \"price_usd_per_m2\"])"
   ]
  },
  {
   "cell_type": "code",
   "execution_count": 14,
   "metadata": {},
   "outputs": [
    {
     "data": {
      "text/html": [
       "<div>\n",
       "<style scoped>\n",
       "    .dataframe tbody tr th:only-of-type {\n",
       "        vertical-align: middle;\n",
       "    }\n",
       "\n",
       "    .dataframe tbody tr th {\n",
       "        vertical-align: top;\n",
       "    }\n",
       "\n",
       "    .dataframe thead th {\n",
       "        text-align: right;\n",
       "    }\n",
       "</style>\n",
       "<table border=\"1\" class=\"dataframe\">\n",
       "  <thead>\n",
       "    <tr style=\"text-align: right;\">\n",
       "      <th></th>\n",
       "      <th>surface_total_in_m2</th>\n",
       "      <th>surface_covered_in_m2</th>\n",
       "      <th>rooms</th>\n",
       "      <th>lat</th>\n",
       "      <th>lon</th>\n",
       "    </tr>\n",
       "  </thead>\n",
       "  <tbody>\n",
       "    <tr>\n",
       "      <th>surface_total_in_m2</th>\n",
       "      <td>1.000000</td>\n",
       "      <td>0.096032</td>\n",
       "      <td>0.000949</td>\n",
       "      <td>-0.000897</td>\n",
       "      <td>-0.001208</td>\n",
       "    </tr>\n",
       "    <tr>\n",
       "      <th>surface_covered_in_m2</th>\n",
       "      <td>0.096032</td>\n",
       "      <td>1.000000</td>\n",
       "      <td>0.478007</td>\n",
       "      <td>0.022024</td>\n",
       "      <td>-0.009834</td>\n",
       "    </tr>\n",
       "    <tr>\n",
       "      <th>rooms</th>\n",
       "      <td>0.000949</td>\n",
       "      <td>0.478007</td>\n",
       "      <td>1.000000</td>\n",
       "      <td>0.000556</td>\n",
       "      <td>0.009450</td>\n",
       "    </tr>\n",
       "    <tr>\n",
       "      <th>lat</th>\n",
       "      <td>-0.000897</td>\n",
       "      <td>0.022024</td>\n",
       "      <td>0.000556</td>\n",
       "      <td>1.000000</td>\n",
       "      <td>-0.549532</td>\n",
       "    </tr>\n",
       "    <tr>\n",
       "      <th>lon</th>\n",
       "      <td>-0.001208</td>\n",
       "      <td>-0.009834</td>\n",
       "      <td>0.009450</td>\n",
       "      <td>-0.549532</td>\n",
       "      <td>1.000000</td>\n",
       "    </tr>\n",
       "  </tbody>\n",
       "</table>\n",
       "</div>"
      ],
      "text/plain": [
       "                       surface_total_in_m2  surface_covered_in_m2     rooms  \\\n",
       "surface_total_in_m2               1.000000               0.096032  0.000949   \n",
       "surface_covered_in_m2             0.096032               1.000000  0.478007   \n",
       "rooms                             0.000949               0.478007  1.000000   \n",
       "lat                              -0.000897               0.022024  0.000556   \n",
       "lon                              -0.001208              -0.009834  0.009450   \n",
       "\n",
       "                            lat       lon  \n",
       "surface_total_in_m2   -0.000897 -0.001208  \n",
       "surface_covered_in_m2  0.022024 -0.009834  \n",
       "rooms                  0.000556  0.009450  \n",
       "lat                    1.000000 -0.549532  \n",
       "lon                   -0.549532  1.000000  "
      ]
     },
     "execution_count": 14,
     "metadata": {},
     "output_type": "execute_result"
    }
   ],
   "source": [
    "# 4. Check multicollinearity\n",
    "# Only select numerical features -> \"number\", and also ignore the target \"price_aprox_usd\"\n",
    "corr = df.select_dtypes(\"number\").drop(columns=\"price_aprox_usd\").corr()\n",
    "corr"
   ]
  },
  {
   "cell_type": "code",
   "execution_count": 15,
   "metadata": {},
   "outputs": [
    {
     "data": {
      "image/png": "[encoded data removed]",
      "text/plain": [
       "<Figure size 640x480 with 2 Axes>"
      ]
     },
     "metadata": {},
     "output_type": "display_data"
    }
   ],
   "source": [
    "# Check multicollinearity using a heatmap \n",
    "sns.heatmap(corr);\n",
    "\n",
    "plt.savefig(\"images/fig5.1_heatmap.png\")\n",
    "plt.show()"
   ]
  },
  {
   "cell_type": "code",
   "execution_count": 16,
   "metadata": {},
   "outputs": [
    {
     "name": "stdout",
     "output_type": "stream",
     "text": [
      "<class 'pandas.core.frame.DataFrame'>\n",
      "RangeIndex: 10480 entries, 0 to 10479\n",
      "Data columns (total 7 columns):\n",
      " #   Column                 Non-Null Count  Dtype  \n",
      "---  ------                 --------------  -----  \n",
      " 0   price_aprox_usd        9419 non-null   float64\n",
      " 1   surface_total_in_m2    9399 non-null   float64\n",
      " 2   surface_covered_in_m2  10480 non-null  float64\n",
      " 3   rooms                  4935 non-null   float64\n",
      " 4   lat                    7451 non-null   float64\n",
      " 5   lon                    7451 non-null   float64\n",
      " 6   neighborhood           10480 non-null  object \n",
      "dtypes: float64(6), object(1)\n",
      "memory usage: 573.3+ KB\n"
     ]
    }
   ],
   "source": [
    "# Check which one has more value to keep\n",
    "df.info() "
   ]
  },
  {
   "cell_type": "code",
   "execution_count": 17,
   "metadata": {},
   "outputs": [],
   "source": [
    "# Thus, drop \"surface_total_in_m2\" and \"rooms\" due to lower non-null values than \"surface_covered_in_m2\"\n",
    "df = df.drop(columns = [\"surface_total_in_m2\", \"rooms\"])"
   ]
  },
  {
   "cell_type": "code",
   "execution_count": 18,
   "metadata": {},
   "outputs": [
    {
     "data": {
      "text/html": [
       "<div>\n",
       "<style scoped>\n",
       "    .dataframe tbody tr th:only-of-type {\n",
       "        vertical-align: middle;\n",
       "    }\n",
       "\n",
       "    .dataframe tbody tr th {\n",
       "        vertical-align: top;\n",
       "    }\n",
       "\n",
       "    .dataframe thead th {\n",
       "        text-align: right;\n",
       "    }\n",
       "</style>\n",
       "<table border=\"1\" class=\"dataframe\">\n",
       "  <thead>\n",
       "    <tr style=\"text-align: right;\">\n",
       "      <th></th>\n",
       "      <th>price_aprox_usd</th>\n",
       "      <th>surface_covered_in_m2</th>\n",
       "      <th>lat</th>\n",
       "      <th>lon</th>\n",
       "      <th>neighborhood</th>\n",
       "    </tr>\n",
       "  </thead>\n",
       "  <tbody>\n",
       "    <tr>\n",
       "      <th>0</th>\n",
       "      <td>250000.0</td>\n",
       "      <td>120.0</td>\n",
       "      <td>NaN</td>\n",
       "      <td>NaN</td>\n",
       "      <td>La Matanza</td>\n",
       "    </tr>\n",
       "    <tr>\n",
       "      <th>1</th>\n",
       "      <td>410000.0</td>\n",
       "      <td>220.0</td>\n",
       "      <td>-34.649700</td>\n",
       "      <td>-58.658073</td>\n",
       "      <td>Morón</td>\n",
       "    </tr>\n",
       "    <tr>\n",
       "      <th>2</th>\n",
       "      <td>180000.0</td>\n",
       "      <td>135.0</td>\n",
       "      <td>-34.595709</td>\n",
       "      <td>-58.566950</td>\n",
       "      <td>Tres de Febrero</td>\n",
       "    </tr>\n",
       "    <tr>\n",
       "      <th>3</th>\n",
       "      <td>130000.0</td>\n",
       "      <td>140.0</td>\n",
       "      <td>-34.655209</td>\n",
       "      <td>-58.697320</td>\n",
       "      <td>Ituzaingó</td>\n",
       "    </tr>\n",
       "    <tr>\n",
       "      <th>4</th>\n",
       "      <td>230000.0</td>\n",
       "      <td>230.0</td>\n",
       "      <td>-34.652173</td>\n",
       "      <td>-58.577867</td>\n",
       "      <td>La Matanza</td>\n",
       "    </tr>\n",
       "  </tbody>\n",
       "</table>\n",
       "</div>"
      ],
      "text/plain": [
       "   price_aprox_usd  surface_covered_in_m2        lat        lon  \\\n",
       "0         250000.0                  120.0        NaN        NaN   \n",
       "1         410000.0                  220.0 -34.649700 -58.658073   \n",
       "2         180000.0                  135.0 -34.595709 -58.566950   \n",
       "3         130000.0                  140.0 -34.655209 -58.697320   \n",
       "4         230000.0                  230.0 -34.652173 -58.577867   \n",
       "\n",
       "      neighborhood  \n",
       "0       La Matanza  \n",
       "1            Morón  \n",
       "2  Tres de Febrero  \n",
       "3        Ituzaingó  \n",
       "4       La Matanza  "
      ]
     },
     "execution_count": 18,
     "metadata": {},
     "output_type": "execute_result"
    }
   ],
   "source": [
    "df.head()"
   ]
  }
 ],
 "metadata": {
  "kernelspec": {
   "display_name": "data_manipulation",
   "language": "python",
   "name": "python3"
  },
  "language_info": {
   "codemirror_mode": {
    "name": "ipython",
    "version": 3
   },
   "file_extension": ".py",
   "mimetype": "text/x-python",
   "name": "python",
   "nbconvert_exporter": "python",
   "pygments_lexer": "ipython3",
   "version": "3.12.4"
  }
 },
 "nbformat": 4,
 "nbformat_minor": 2
}
